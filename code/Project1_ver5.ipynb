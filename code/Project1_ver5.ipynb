{
 "cells": [
  {
   "cell_type": "markdown",
   "metadata": {},
   "source": [
    "# Project1 - Team 5, Studio 1\n",
    "\n",
    "Annie Chu, SeungU Lyu"
   ]
  },
  {
   "cell_type": "markdown",
   "metadata": {},
   "source": [
    "### Question: How would the age demographics change over the course of 15 years if the US implemented an one-child policy?\n",
    "Currently, the US population is 325.7 million, projected to be around 360 million by 2030. Data provided by the US Census also shows the greatest change in population among the 65+ age group, followed by the 18-44 age group, followed by the 45-64 group, and finally the under 18 group. This change may be explained by the evident in the declining fertility, which has dropped to an all time low of 1.76 children/female. \n",
    "\n",
    "We aimed to explore how the age group demographics would shift over 15 years if the US had implemented a one-child policy, essentially viewing how the US population would change if the fertility dropped to less than 1 child/female. "
   ]
  },
  {
   "cell_type": "code",
   "execution_count": 1,
   "metadata": {},
   "outputs": [],
   "source": [
    "# Configure Jupyter so figures appear in the notebook\n",
    "%matplotlib inline\n",
    "\n",
    "# Configure Jupyter to display the assigned value after an assignment\n",
    "%config InteractiveShell.ast_node_interactivity='last_expr_or_assign'\n",
    "\n",
    "# import functions from the modsim.py module\n",
    "from modsim import *\n",
    "\n",
    "# importing \"copy\" for copy operations \n",
    "import copy"
   ]
  },
  {
   "cell_type": "code",
   "execution_count": 2,
   "metadata": {},
   "outputs": [],
   "source": [
    "import numpy as np\n",
    "import matplotlib.pyplot as plt\n",
    "from matplotlib import rc\n",
    "import pandas as pd"
   ]
  },
  {
   "cell_type": "markdown",
   "metadata": {},
   "source": [
    "### Initial Data Pulls"
   ]
  },
  {
   "cell_type": "markdown",
   "metadata": {},
   "source": [
    "#### Initial Population Data by Age Range and Gender (0-4, 5-9, etc)"
   ]
  },
  {
   "cell_type": "code",
   "execution_count": 3,
   "metadata": {},
   "outputs": [
    {
     "data": {
      "text/html": [
       "<div>\n",
       "<style scoped>\n",
       "    .dataframe tbody tr th:only-of-type {\n",
       "        vertical-align: middle;\n",
       "    }\n",
       "\n",
       "    .dataframe tbody tr th {\n",
       "        vertical-align: top;\n",
       "    }\n",
       "\n",
       "    .dataframe thead th {\n",
       "        text-align: right;\n",
       "    }\n",
       "</style>\n",
       "<table border=\"1\" class=\"dataframe\">\n",
       "  <thead>\n",
       "    <tr style=\"text-align: right;\">\n",
       "      <th></th>\n",
       "      <th>male</th>\n",
       "      <th>female</th>\n",
       "    </tr>\n",
       "    <tr>\n",
       "      <th>age</th>\n",
       "      <th></th>\n",
       "      <th></th>\n",
       "    </tr>\n",
       "  </thead>\n",
       "  <tbody>\n",
       "    <tr>\n",
       "      <th>4</th>\n",
       "      <td>10195968</td>\n",
       "      <td>9742892</td>\n",
       "    </tr>\n",
       "    <tr>\n",
       "      <th>9</th>\n",
       "      <td>10368141</td>\n",
       "      <td>9936097</td>\n",
       "    </tr>\n",
       "    <tr>\n",
       "      <th>14</th>\n",
       "      <td>10605072</td>\n",
       "      <td>10173382</td>\n",
       "    </tr>\n",
       "    <tr>\n",
       "      <th>19</th>\n",
       "      <td>10800491</td>\n",
       "      <td>10331169</td>\n",
       "    </tr>\n",
       "    <tr>\n",
       "      <th>24</th>\n",
       "      <td>11349142</td>\n",
       "      <td>10769493</td>\n",
       "    </tr>\n",
       "    <tr>\n",
       "      <th>29</th>\n",
       "      <td>11902230</td>\n",
       "      <td>11468230</td>\n",
       "    </tr>\n",
       "    <tr>\n",
       "      <th>34</th>\n",
       "      <td>11089131</td>\n",
       "      <td>10883081</td>\n",
       "    </tr>\n",
       "    <tr>\n",
       "      <th>39</th>\n",
       "      <td>10615985</td>\n",
       "      <td>10616012</td>\n",
       "    </tr>\n",
       "    <tr>\n",
       "      <th>44</th>\n",
       "      <td>9753115</td>\n",
       "      <td>9890258</td>\n",
       "    </tr>\n",
       "    <tr>\n",
       "      <th>49</th>\n",
       "      <td>10386175</td>\n",
       "      <td>10587683</td>\n",
       "    </tr>\n",
       "    <tr>\n",
       "      <th>54</th>\n",
       "      <td>10520182</td>\n",
       "      <td>10880912</td>\n",
       "    </tr>\n",
       "    <tr>\n",
       "      <th>59</th>\n",
       "      <td>10700520</td>\n",
       "      <td>11307436</td>\n",
       "    </tr>\n",
       "    <tr>\n",
       "      <th>64</th>\n",
       "      <td>9557283</td>\n",
       "      <td>10430419</td>\n",
       "    </tr>\n",
       "    <tr>\n",
       "      <th>69</th>\n",
       "      <td>7929868</td>\n",
       "      <td>8906513</td>\n",
       "    </tr>\n",
       "    <tr>\n",
       "      <th>74</th>\n",
       "      <td>5947272</td>\n",
       "      <td>6899793</td>\n",
       "    </tr>\n",
       "    <tr>\n",
       "      <th>79</th>\n",
       "      <td>3898816</td>\n",
       "      <td>4842445</td>\n",
       "    </tr>\n",
       "    <tr>\n",
       "      <th>84</th>\n",
       "      <td>2509059</td>\n",
       "      <td>3456231</td>\n",
       "    </tr>\n",
       "    <tr>\n",
       "      <th>89</th>\n",
       "      <td>2279669</td>\n",
       "      <td>4189013</td>\n",
       "    </tr>\n",
       "  </tbody>\n",
       "</table>\n",
       "</div>"
      ],
      "text/plain": [
       "         male    female\n",
       "age                    \n",
       "4    10195968   9742892\n",
       "9    10368141   9936097\n",
       "14   10605072  10173382\n",
       "19   10800491  10331169\n",
       "24   11349142  10769493\n",
       "29   11902230  11468230\n",
       "34   11089131  10883081\n",
       "39   10615985  10616012\n",
       "44    9753115   9890258\n",
       "49   10386175  10587683\n",
       "54   10520182  10880912\n",
       "59   10700520  11307436\n",
       "64    9557283  10430419\n",
       "69    7929868   8906513\n",
       "74    5947272   6899793\n",
       "79    3898816   4842445\n",
       "84    2509059   3456231\n",
       "89    2279669   4189013"
      ]
     },
     "execution_count": 3,
     "metadata": {},
     "output_type": "execute_result"
    }
   ],
   "source": [
    "pop_init_data = pd.read_csv('data/pop_2017_US.csv', index_col='age')"
   ]
  },
  {
   "cell_type": "markdown",
   "metadata": {},
   "source": [
    "Source: https://factfinder.census.gov/faces/tableservices/jsf/pages/productview.xhtml?src=bkmk"
   ]
  },
  {
   "cell_type": "markdown",
   "metadata": {},
   "source": [
    "#### Death Rate Data by Age Group and Gender (0, 1-4, 5-9, etc)"
   ]
  },
  {
   "cell_type": "code",
   "execution_count": 4,
   "metadata": {
    "scrolled": false
   },
   "outputs": [
    {
     "data": {
      "text/html": [
       "<div>\n",
       "<style scoped>\n",
       "    .dataframe tbody tr th:only-of-type {\n",
       "        vertical-align: middle;\n",
       "    }\n",
       "\n",
       "    .dataframe tbody tr th {\n",
       "        vertical-align: top;\n",
       "    }\n",
       "\n",
       "    .dataframe thead th {\n",
       "        text-align: right;\n",
       "    }\n",
       "</style>\n",
       "<table border=\"1\" class=\"dataframe\">\n",
       "  <thead>\n",
       "    <tr style=\"text-align: right;\">\n",
       "      <th></th>\n",
       "      <th>male</th>\n",
       "      <th>female</th>\n",
       "    </tr>\n",
       "    <tr>\n",
       "      <th>age</th>\n",
       "      <th></th>\n",
       "      <th></th>\n",
       "    </tr>\n",
       "  </thead>\n",
       "  <tbody>\n",
       "    <tr>\n",
       "      <th>0</th>\n",
       "      <td>0.006392</td>\n",
       "      <td>0.005377</td>\n",
       "    </tr>\n",
       "    <tr>\n",
       "      <th>4</th>\n",
       "      <td>0.000280</td>\n",
       "      <td>0.000216</td>\n",
       "    </tr>\n",
       "    <tr>\n",
       "      <th>9</th>\n",
       "      <td>0.000132</td>\n",
       "      <td>0.000102</td>\n",
       "    </tr>\n",
       "    <tr>\n",
       "      <th>14</th>\n",
       "      <td>0.000169</td>\n",
       "      <td>0.000122</td>\n",
       "    </tr>\n",
       "    <tr>\n",
       "      <th>19</th>\n",
       "      <td>0.000666</td>\n",
       "      <td>0.000291</td>\n",
       "    </tr>\n",
       "    <tr>\n",
       "      <th>24</th>\n",
       "      <td>0.001299</td>\n",
       "      <td>0.000465</td>\n",
       "    </tr>\n",
       "    <tr>\n",
       "      <th>29</th>\n",
       "      <td>0.001505</td>\n",
       "      <td>0.000608</td>\n",
       "    </tr>\n",
       "    <tr>\n",
       "      <th>34</th>\n",
       "      <td>0.001709</td>\n",
       "      <td>0.000835</td>\n",
       "    </tr>\n",
       "    <tr>\n",
       "      <th>39</th>\n",
       "      <td>0.001985</td>\n",
       "      <td>0.001101</td>\n",
       "    </tr>\n",
       "    <tr>\n",
       "      <th>44</th>\n",
       "      <td>0.002540</td>\n",
       "      <td>0.001590</td>\n",
       "    </tr>\n",
       "    <tr>\n",
       "      <th>49</th>\n",
       "      <td>0.003755</td>\n",
       "      <td>0.002431</td>\n",
       "    </tr>\n",
       "    <tr>\n",
       "      <th>54</th>\n",
       "      <td>0.006087</td>\n",
       "      <td>0.003815</td>\n",
       "    </tr>\n",
       "    <tr>\n",
       "      <th>59</th>\n",
       "      <td>0.009169</td>\n",
       "      <td>0.005568</td>\n",
       "    </tr>\n",
       "    <tr>\n",
       "      <th>64</th>\n",
       "      <td>0.013212</td>\n",
       "      <td>0.007811</td>\n",
       "    </tr>\n",
       "    <tr>\n",
       "      <th>69</th>\n",
       "      <td>0.018118</td>\n",
       "      <td>0.011551</td>\n",
       "    </tr>\n",
       "    <tr>\n",
       "      <th>74</th>\n",
       "      <td>0.027325</td>\n",
       "      <td>0.018558</td>\n",
       "    </tr>\n",
       "    <tr>\n",
       "      <th>79</th>\n",
       "      <td>0.042571</td>\n",
       "      <td>0.030288</td>\n",
       "    </tr>\n",
       "    <tr>\n",
       "      <th>84</th>\n",
       "      <td>0.070514</td>\n",
       "      <td>0.052274</td>\n",
       "    </tr>\n",
       "    <tr>\n",
       "      <th>89</th>\n",
       "      <td>0.147958</td>\n",
       "      <td>0.130808</td>\n",
       "    </tr>\n",
       "  </tbody>\n",
       "</table>\n",
       "</div>"
      ],
      "text/plain": [
       "         male    female\n",
       "age                    \n",
       "0    0.006392  0.005377\n",
       "4    0.000280  0.000216\n",
       "9    0.000132  0.000102\n",
       "14   0.000169  0.000122\n",
       "19   0.000666  0.000291\n",
       "24   0.001299  0.000465\n",
       "29   0.001505  0.000608\n",
       "34   0.001709  0.000835\n",
       "39   0.001985  0.001101\n",
       "44   0.002540  0.001590\n",
       "49   0.003755  0.002431\n",
       "54   0.006087  0.003815\n",
       "59   0.009169  0.005568\n",
       "64   0.013212  0.007811\n",
       "69   0.018118  0.011551\n",
       "74   0.027325  0.018558\n",
       "79   0.042571  0.030288\n",
       "84   0.070514  0.052274\n",
       "89   0.147958  0.130808"
      ]
     },
     "execution_count": 4,
     "metadata": {},
     "output_type": "execute_result"
    }
   ],
   "source": [
    "death_rate_data = pd.read_csv('data/age_death_rate.csv', index_col='age')"
   ]
  },
  {
   "cell_type": "markdown",
   "metadata": {},
   "source": [
    "Source: https://www.statista.com/statistics/241488/population-of-the-us-by-sex-and-age/"
   ]
  },
  {
   "cell_type": "markdown",
   "metadata": {},
   "source": [
    "#### Probability of Woman Ever Having a Child by Age Group (15-19, 20-24, etc)"
   ]
  },
  {
   "cell_type": "code",
   "execution_count": 5,
   "metadata": {},
   "outputs": [
    {
     "data": {
      "text/html": [
       "<div>\n",
       "<style scoped>\n",
       "    .dataframe tbody tr th:only-of-type {\n",
       "        vertical-align: middle;\n",
       "    }\n",
       "\n",
       "    .dataframe tbody tr th {\n",
       "        vertical-align: top;\n",
       "    }\n",
       "\n",
       "    .dataframe thead th {\n",
       "        text-align: right;\n",
       "    }\n",
       "</style>\n",
       "<table border=\"1\" class=\"dataframe\">\n",
       "  <thead>\n",
       "    <tr style=\"text-align: right;\">\n",
       "      <th></th>\n",
       "      <th>percentage</th>\n",
       "    </tr>\n",
       "    <tr>\n",
       "      <th>age</th>\n",
       "      <th></th>\n",
       "    </tr>\n",
       "  </thead>\n",
       "  <tbody>\n",
       "    <tr>\n",
       "      <th>19</th>\n",
       "      <td>0.051</td>\n",
       "    </tr>\n",
       "    <tr>\n",
       "      <th>24</th>\n",
       "      <td>0.286</td>\n",
       "    </tr>\n",
       "    <tr>\n",
       "      <th>29</th>\n",
       "      <td>0.506</td>\n",
       "    </tr>\n",
       "    <tr>\n",
       "      <th>34</th>\n",
       "      <td>0.718</td>\n",
       "    </tr>\n",
       "    <tr>\n",
       "      <th>39</th>\n",
       "      <td>0.828</td>\n",
       "    </tr>\n",
       "    <tr>\n",
       "      <th>44</th>\n",
       "      <td>0.849</td>\n",
       "    </tr>\n",
       "    <tr>\n",
       "      <th>49</th>\n",
       "      <td>0.832</td>\n",
       "    </tr>\n",
       "  </tbody>\n",
       "</table>\n",
       "</div>"
      ],
      "text/plain": [
       "     percentage\n",
       "age            \n",
       "19        0.051\n",
       "24        0.286\n",
       "29        0.506\n",
       "34        0.718\n",
       "39        0.828\n",
       "44        0.849\n",
       "49        0.832"
      ]
     },
     "execution_count": 5,
     "metadata": {},
     "output_type": "execute_result"
    }
   ],
   "source": [
    "child_ever_data = pd.read_csv('data/child_ever_born.csv', index_col='age')"
   ]
  },
  {
   "cell_type": "markdown",
   "metadata": {},
   "source": [
    "Source: Fertility of Women in the United States: 2012, Lindsay M. Monte and Renee R. Ellis"
   ]
  },
  {
   "cell_type": "markdown",
   "metadata": {},
   "source": [
    "#### Probability of Woman Having First Child by Age"
   ]
  },
  {
   "cell_type": "code",
   "execution_count": 6,
   "metadata": {
    "scrolled": false
   },
   "outputs": [
    {
     "data": {
      "text/html": [
       "<div>\n",
       "<style scoped>\n",
       "    .dataframe tbody tr th:only-of-type {\n",
       "        vertical-align: middle;\n",
       "    }\n",
       "\n",
       "    .dataframe tbody tr th {\n",
       "        vertical-align: top;\n",
       "    }\n",
       "\n",
       "    .dataframe thead th {\n",
       "        text-align: right;\n",
       "    }\n",
       "</style>\n",
       "<table border=\"1\" class=\"dataframe\">\n",
       "  <thead>\n",
       "    <tr style=\"text-align: right;\">\n",
       "      <th></th>\n",
       "      <th>percentage</th>\n",
       "    </tr>\n",
       "    <tr>\n",
       "      <th>age</th>\n",
       "      <th></th>\n",
       "    </tr>\n",
       "  </thead>\n",
       "  <tbody>\n",
       "    <tr>\n",
       "      <th>15</th>\n",
       "      <td>0.0090</td>\n",
       "    </tr>\n",
       "    <tr>\n",
       "      <th>16</th>\n",
       "      <td>0.0182</td>\n",
       "    </tr>\n",
       "    <tr>\n",
       "      <th>17</th>\n",
       "      <td>0.0314</td>\n",
       "    </tr>\n",
       "    <tr>\n",
       "      <th>18</th>\n",
       "      <td>0.0470</td>\n",
       "    </tr>\n",
       "    <tr>\n",
       "      <th>19</th>\n",
       "      <td>0.0597</td>\n",
       "    </tr>\n",
       "    <tr>\n",
       "      <th>20</th>\n",
       "      <td>0.0661</td>\n",
       "    </tr>\n",
       "    <tr>\n",
       "      <th>21</th>\n",
       "      <td>0.0664</td>\n",
       "    </tr>\n",
       "    <tr>\n",
       "      <th>22</th>\n",
       "      <td>0.0650</td>\n",
       "    </tr>\n",
       "    <tr>\n",
       "      <th>23</th>\n",
       "      <td>0.0655</td>\n",
       "    </tr>\n",
       "    <tr>\n",
       "      <th>24</th>\n",
       "      <td>0.0680</td>\n",
       "    </tr>\n",
       "    <tr>\n",
       "      <th>25</th>\n",
       "      <td>0.0731</td>\n",
       "    </tr>\n",
       "    <tr>\n",
       "      <th>26</th>\n",
       "      <td>0.0798</td>\n",
       "    </tr>\n",
       "    <tr>\n",
       "      <th>27</th>\n",
       "      <td>0.0867</td>\n",
       "    </tr>\n",
       "    <tr>\n",
       "      <th>28</th>\n",
       "      <td>0.0930</td>\n",
       "    </tr>\n",
       "    <tr>\n",
       "      <th>29</th>\n",
       "      <td>0.0998</td>\n",
       "    </tr>\n",
       "    <tr>\n",
       "      <th>30</th>\n",
       "      <td>0.1067</td>\n",
       "    </tr>\n",
       "    <tr>\n",
       "      <th>31</th>\n",
       "      <td>0.1113</td>\n",
       "    </tr>\n",
       "    <tr>\n",
       "      <th>32</th>\n",
       "      <td>0.1109</td>\n",
       "    </tr>\n",
       "    <tr>\n",
       "      <th>33</th>\n",
       "      <td>0.1066</td>\n",
       "    </tr>\n",
       "    <tr>\n",
       "      <th>34</th>\n",
       "      <td>0.1009</td>\n",
       "    </tr>\n",
       "    <tr>\n",
       "      <th>35</th>\n",
       "      <td>0.0941</td>\n",
       "    </tr>\n",
       "    <tr>\n",
       "      <th>36</th>\n",
       "      <td>0.0825</td>\n",
       "    </tr>\n",
       "    <tr>\n",
       "      <th>37</th>\n",
       "      <td>0.0690</td>\n",
       "    </tr>\n",
       "    <tr>\n",
       "      <th>38</th>\n",
       "      <td>0.0541</td>\n",
       "    </tr>\n",
       "    <tr>\n",
       "      <th>39</th>\n",
       "      <td>0.0431</td>\n",
       "    </tr>\n",
       "    <tr>\n",
       "      <th>40</th>\n",
       "      <td>0.0312</td>\n",
       "    </tr>\n",
       "    <tr>\n",
       "      <th>41</th>\n",
       "      <td>0.0226</td>\n",
       "    </tr>\n",
       "    <tr>\n",
       "      <th>42</th>\n",
       "      <td>0.0141</td>\n",
       "    </tr>\n",
       "    <tr>\n",
       "      <th>43</th>\n",
       "      <td>0.0084</td>\n",
       "    </tr>\n",
       "    <tr>\n",
       "      <th>44</th>\n",
       "      <td>0.0048</td>\n",
       "    </tr>\n",
       "    <tr>\n",
       "      <th>45</th>\n",
       "      <td>0.0027</td>\n",
       "    </tr>\n",
       "    <tr>\n",
       "      <th>46</th>\n",
       "      <td>0.0013</td>\n",
       "    </tr>\n",
       "    <tr>\n",
       "      <th>47</th>\n",
       "      <td>0.0007</td>\n",
       "    </tr>\n",
       "    <tr>\n",
       "      <th>48</th>\n",
       "      <td>0.0007</td>\n",
       "    </tr>\n",
       "    <tr>\n",
       "      <th>49</th>\n",
       "      <td>0.0006</td>\n",
       "    </tr>\n",
       "  </tbody>\n",
       "</table>\n",
       "</div>"
      ],
      "text/plain": [
       "     percentage\n",
       "age            \n",
       "15       0.0090\n",
       "16       0.0182\n",
       "17       0.0314\n",
       "18       0.0470\n",
       "19       0.0597\n",
       "20       0.0661\n",
       "21       0.0664\n",
       "22       0.0650\n",
       "23       0.0655\n",
       "24       0.0680\n",
       "25       0.0731\n",
       "26       0.0798\n",
       "27       0.0867\n",
       "28       0.0930\n",
       "29       0.0998\n",
       "30       0.1067\n",
       "31       0.1113\n",
       "32       0.1109\n",
       "33       0.1066\n",
       "34       0.1009\n",
       "35       0.0941\n",
       "36       0.0825\n",
       "37       0.0690\n",
       "38       0.0541\n",
       "39       0.0431\n",
       "40       0.0312\n",
       "41       0.0226\n",
       "42       0.0141\n",
       "43       0.0084\n",
       "44       0.0048\n",
       "45       0.0027\n",
       "46       0.0013\n",
       "47       0.0007\n",
       "48       0.0007\n",
       "49       0.0006"
      ]
     },
     "execution_count": 6,
     "metadata": {},
     "output_type": "execute_result"
    }
   ],
   "source": [
    "first_birth_data = pd.read_csv('data/first_birth_rate.csv', index_col='age')"
   ]
  },
  {
   "cell_type": "markdown",
   "metadata": {},
   "source": [
    "Source: https://www.cdc.gov/nchs/nvss/births.htm"
   ]
  },
  {
   "cell_type": "markdown",
   "metadata": {},
   "source": [
    "#### Adapting Initial Population Data into Age Groups"
   ]
  },
  {
   "cell_type": "code",
   "execution_count": 7,
   "metadata": {},
   "outputs": [],
   "source": [
    "male_pop = linspace(0,0,90)\n",
    "female_pop = linspace(0,0,90)\n",
    "\n",
    "ident = 4\n",
    "for i in range(90):\n",
    "    if i>ident:\n",
    "        ident += 5\n",
    "    male_pop[i] = int(pop_init_data.male[ident]/5)\n",
    "    female_pop[i] = int(pop_init_data.female[ident]/5)"
   ]
  },
  {
   "cell_type": "code",
   "execution_count": 8,
   "metadata": {
    "scrolled": true
   },
   "outputs": [
    {
     "data": {
      "text/plain": [
       "1948578.0"
      ]
     },
     "execution_count": 8,
     "metadata": {},
     "output_type": "execute_result"
    }
   ],
   "source": [
    "female_pop[0] #test"
   ]
  },
  {
   "cell_type": "markdown",
   "metadata": {},
   "source": [
    "#### Setting Initial Population State by Gender"
   ]
  },
  {
   "cell_type": "code",
   "execution_count": 9,
   "metadata": {},
   "outputs": [
    {
     "data": {
      "text/html": [
       "<div>\n",
       "<style scoped>\n",
       "    .dataframe tbody tr th:only-of-type {\n",
       "        vertical-align: middle;\n",
       "    }\n",
       "\n",
       "    .dataframe tbody tr th {\n",
       "        vertical-align: top;\n",
       "    }\n",
       "\n",
       "    .dataframe thead th {\n",
       "        text-align: right;\n",
       "    }\n",
       "</style>\n",
       "<table border=\"1\" class=\"dataframe\">\n",
       "  <thead>\n",
       "    <tr style=\"text-align: right;\">\n",
       "      <th></th>\n",
       "      <th>values</th>\n",
       "    </tr>\n",
       "  </thead>\n",
       "  <tbody>\n",
       "    <tr>\n",
       "      <th>male</th>\n",
       "      <td>[2039193.0, 2039193.0, 2039193.0, 2039193.0, 2...</td>\n",
       "    </tr>\n",
       "    <tr>\n",
       "      <th>female</th>\n",
       "      <td>[1948578.0, 1948578.0, 1948578.0, 1948578.0, 1...</td>\n",
       "    </tr>\n",
       "  </tbody>\n",
       "</table>\n",
       "</div>"
      ],
      "text/plain": [
       "male      [2039193.0, 2039193.0, 2039193.0, 2039193.0, 2...\n",
       "female    [1948578.0, 1948578.0, 1948578.0, 1948578.0, 1...\n",
       "dtype: object"
      ]
     },
     "execution_count": 9,
     "metadata": {},
     "output_type": "execute_result"
    }
   ],
   "source": [
    "init_population = State(male = male_pop, female = female_pop)"
   ]
  },
  {
   "cell_type": "markdown",
   "metadata": {},
   "source": [
    "#### Storing Model Parameters in a System Object"
   ]
  },
  {
   "cell_type": "code",
   "execution_count": 10,
   "metadata": {},
   "outputs": [
    {
     "data": {
      "text/html": [
       "<div>\n",
       "<style scoped>\n",
       "    .dataframe tbody tr th:only-of-type {\n",
       "        vertical-align: middle;\n",
       "    }\n",
       "\n",
       "    .dataframe tbody tr th {\n",
       "        vertical-align: top;\n",
       "    }\n",
       "\n",
       "    .dataframe thead th {\n",
       "        text-align: right;\n",
       "    }\n",
       "</style>\n",
       "<table border=\"1\" class=\"dataframe\">\n",
       "  <thead>\n",
       "    <tr style=\"text-align: right;\">\n",
       "      <th></th>\n",
       "      <th>values</th>\n",
       "    </tr>\n",
       "  </thead>\n",
       "  <tbody>\n",
       "    <tr>\n",
       "      <th>male_death</th>\n",
       "      <td>age\n",
       "0     0.006392\n",
       "4     0.000280\n",
       "9     0.0001...</td>\n",
       "    </tr>\n",
       "    <tr>\n",
       "      <th>female_death</th>\n",
       "      <td>age\n",
       "0     0.005377\n",
       "4     0.000216\n",
       "9     0.0001...</td>\n",
       "    </tr>\n",
       "    <tr>\n",
       "      <th>child_ever</th>\n",
       "      <td>age\n",
       "19    0.051\n",
       "24    0.286\n",
       "29    0.506\n",
       "34    ...</td>\n",
       "    </tr>\n",
       "    <tr>\n",
       "      <th>first_rate</th>\n",
       "      <td>age\n",
       "15    0.0090\n",
       "16    0.0182\n",
       "17    0.0314\n",
       "18 ...</td>\n",
       "    </tr>\n",
       "    <tr>\n",
       "      <th>t_0</th>\n",
       "      <td>2018</td>\n",
       "    </tr>\n",
       "    <tr>\n",
       "      <th>t_end</th>\n",
       "      <td>2033</td>\n",
       "    </tr>\n",
       "    <tr>\n",
       "      <th>init_pop</th>\n",
       "      <td>male      [2039193.0, 2039193.0, 2039193.0, 20...</td>\n",
       "    </tr>\n",
       "  </tbody>\n",
       "</table>\n",
       "</div>"
      ],
      "text/plain": [
       "male_death      age\n",
       "0     0.006392\n",
       "4     0.000280\n",
       "9     0.0001...\n",
       "female_death    age\n",
       "0     0.005377\n",
       "4     0.000216\n",
       "9     0.0001...\n",
       "child_ever      age\n",
       "19    0.051\n",
       "24    0.286\n",
       "29    0.506\n",
       "34    ...\n",
       "first_rate      age\n",
       "15    0.0090\n",
       "16    0.0182\n",
       "17    0.0314\n",
       "18 ...\n",
       "t_0                                                          2018\n",
       "t_end                                                        2033\n",
       "init_pop        male      [2039193.0, 2039193.0, 2039193.0, 20...\n",
       "dtype: object"
      ]
     },
     "execution_count": 10,
     "metadata": {},
     "output_type": "execute_result"
    }
   ],
   "source": [
    "system = System(male_death = death_rate_data.male,\n",
    "               female_death = death_rate_data.female,\n",
    "               child_ever = child_ever_data.percentage,\n",
    "               first_rate = first_birth_data.percentage,\n",
    "               t_0 = 2018,\n",
    "               t_end = 2033,\n",
    "               init_pop = init_population)"
   ]
  },
  {
   "cell_type": "markdown",
   "metadata": {},
   "source": [
    "#### Creating State object to initialize arrays for the 3 different groups: Males, Females who haven't had the chance to have a child, Females who have had the chance to have a child"
   ]
  },
  {
   "cell_type": "code",
   "execution_count": 11,
   "metadata": {},
   "outputs": [
    {
     "data": {
      "text/html": [
       "<div>\n",
       "<style scoped>\n",
       "    .dataframe tbody tr th:only-of-type {\n",
       "        vertical-align: middle;\n",
       "    }\n",
       "\n",
       "    .dataframe tbody tr th {\n",
       "        vertical-align: top;\n",
       "    }\n",
       "\n",
       "    .dataframe thead th {\n",
       "        text-align: right;\n",
       "    }\n",
       "</style>\n",
       "<table border=\"1\" class=\"dataframe\">\n",
       "  <thead>\n",
       "    <tr style=\"text-align: right;\">\n",
       "      <th></th>\n",
       "      <th>values</th>\n",
       "    </tr>\n",
       "  </thead>\n",
       "  <tbody>\n",
       "    <tr>\n",
       "      <th>male</th>\n",
       "      <td>[2039193.0, 2039193.0, 2039193.0, 2039193.0, 2...</td>\n",
       "    </tr>\n",
       "    <tr>\n",
       "      <th>female</th>\n",
       "      <td>[1948578.0, 1948578.0, 1948578.0, 1948578.0, 1...</td>\n",
       "    </tr>\n",
       "    <tr>\n",
       "      <th>female_w</th>\n",
       "      <td>[0.0, 0.0, 0.0, 0.0, 0.0, 0.0, 0.0, 0.0, 0.0, ...</td>\n",
       "    </tr>\n",
       "  </tbody>\n",
       "</table>\n",
       "</div>"
      ],
      "text/plain": [
       "male        [2039193.0, 2039193.0, 2039193.0, 2039193.0, 2...\n",
       "female      [1948578.0, 1948578.0, 1948578.0, 1948578.0, 1...\n",
       "female_w    [0.0, 0.0, 0.0, 0.0, 0.0, 0.0, 0.0, 0.0, 0.0, ...\n",
       "dtype: object"
      ]
     },
     "execution_count": 11,
     "metadata": {},
     "output_type": "execute_result"
    }
   ],
   "source": [
    "population = State(male = copy.deepcopy(system.init_pop.male), female = copy.deepcopy(system.init_pop.female), female_w = linspace(0,0,90))"
   ]
  },
  {
   "cell_type": "markdown",
   "metadata": {},
   "source": [
    "#### Assigning Population Value to 2 Female Groups Above"
   ]
  },
  {
   "cell_type": "code",
   "execution_count": 12,
   "metadata": {},
   "outputs": [],
   "source": [
    "ident = 19\n",
    "for i in range(15,49):\n",
    "    if i>ident:\n",
    "        ident += 5\n",
    "    population.female_w[i] = int(population.female[i]*system.child_ever[ident])\n",
    "    population.female[i] = int(population.female[i]*(1-system.child_ever[ident]))"
   ]
  },
  {
   "cell_type": "markdown",
   "metadata": {},
   "source": [
    "#### Implementation of Relative Gender Death Rate to 3 Groups"
   ]
  },
  {
   "cell_type": "code",
   "execution_count": 13,
   "metadata": {},
   "outputs": [],
   "source": [
    "def update_func_death(state,system):\n",
    "    ident = 4\n",
    "    state.male[0] = int(state.male[0] * (1-system.male_death[0]))\n",
    "    state.female[0] = int(state.female[0] * (1-system.female_death[0]))\n",
    "    for i in range(1,90):\n",
    "        if i>ident:\n",
    "            ident += 5\n",
    "        state.male[i] = int(state.male[i] * (1-system.male_death[ident]))\n",
    "        state.female[i] = int(state.female[i] * (1-system.female_death[ident]))\n",
    "        state.female_w[i] = int(state.female_w[i] * (1-system.female_death[ident]))\n",
    "    return state"
   ]
  },
  {
   "cell_type": "markdown",
   "metadata": {},
   "source": [
    "#### Implementation of Birth Rate: Creating Newborns + Shifting Female Group (those who still have potential to give birth) to Female_W Group (those who no longer do)"
   ]
  },
  {
   "cell_type": "code",
   "execution_count": 14,
   "metadata": {},
   "outputs": [],
   "source": [
    "def update_func_birth(state,system):\n",
    "    baby_total = 0\n",
    "    for i in range(15,50):\n",
    "        baby = int(state.female[i]*system.first_rate[i])\n",
    "        state.female[i] -= baby\n",
    "        state.female_w[i] += baby\n",
    "        baby_total += baby\n",
    "    return baby_total"
   ]
  },
  {
   "cell_type": "markdown",
   "metadata": {},
   "source": [
    "#### Updating Population Age + New Births: Initializing New Births to Female/Male to 0 Age Group and Shifting All Ages Up by one"
   ]
  },
  {
   "cell_type": "code",
   "execution_count": 15,
   "metadata": {},
   "outputs": [],
   "source": [
    "def update_func_pop(baby,state,system):\n",
    "    for i in range(89):\n",
    "        k = 89-i\n",
    "        state.male[k] = state.male[k-1]\n",
    "        state.female[k] = state.female[k-1]\n",
    "        state.female_w[k] = state.female_w[k-1]\n",
    "    state.male[0] = int(baby/2)\n",
    "    state.female[0] = int(baby/2)\n",
    "    return state"
   ]
  },
  {
   "cell_type": "markdown",
   "metadata": {},
   "source": [
    "#### General adding function to find total population among 3 groups (male, female, female_w)"
   ]
  },
  {
   "cell_type": "code",
   "execution_count": 16,
   "metadata": {},
   "outputs": [],
   "source": [
    "def addall(state):\n",
    "    total = 0\n",
    "    for i in range(90):\n",
    "        total = total + state.male[i] + state.female[i] + state.female_w[i]\n",
    "    return total"
   ]
  },
  {
   "cell_type": "markdown",
   "metadata": {},
   "source": [
    "#### Function used to create TimeSeries with Total Population "
   ]
  },
  {
   "cell_type": "code",
   "execution_count": 17,
   "metadata": {},
   "outputs": [],
   "source": [
    "def run_population(system, state, update_func_death, update_func_birth, update_func_pop, addall):\n",
    "    nstate = State(male = copy.deepcopy(state.male), female = copy.deepcopy(state.female), female_w = copy.deepcopy(state.female_w))\n",
    "    results = TimeSeries()\n",
    "    for t in linrange(system.t_0, system.t_end):\n",
    "        nstate = update_func_death(nstate,system)\n",
    "        baby = update_func_birth(nstate,system)\n",
    "        nstate = update_func_pop(baby,nstate,system)\n",
    "        totalpop = addall(nstate)\n",
    "        results[t+1] = totalpop\n",
    "    return results"
   ]
  },
  {
   "cell_type": "markdown",
   "metadata": {},
   "source": [
    "#### Adding function used to define what the age groups are and their subsequent total population within that age group\n",
    "Shown later, we split the population into 5 age groups: 0-14, 15-30, 31-49, 50-70, 71-89. The end age is 89 because the initial data pull age limit is 89. "
   ]
  },
  {
   "cell_type": "code",
   "execution_count": 18,
   "metadata": {},
   "outputs": [],
   "source": [
    "def agedemos(num_s, num_e, state):\n",
    "    age_total = 0\n",
    "    for i in range(num_s, num_e+1):\n",
    "        age_total = age_total + state.male[i] + state.female[i] + state.female_w[i]\n",
    "    return age_total"
   ]
  },
  {
   "cell_type": "markdown",
   "metadata": {},
   "source": [
    "#### Function used to create TimeSeries with Total Age Group Values"
   ]
  },
  {
   "cell_type": "code",
   "execution_count": 19,
   "metadata": {},
   "outputs": [],
   "source": [
    "def age_group(system, state, update_func_death, update_func_birth, update_func_pop, agedemos):\n",
    "    nstate = State(male = copy.deepcopy(state.male), female = copy.deepcopy(state.female), female_w = copy.deepcopy(state.female_w))\n",
    "    demo_state = State(ag_one = TimeSeries(), ag_two = TimeSeries(), ag_three = TimeSeries(), ag_four = TimeSeries(), ag_five = TimeSeries())\n",
    "    for t in linrange(system.t_0, system.t_end):\n",
    "        nstate = update_func_death(nstate,system)\n",
    "        baby = update_func_birth(nstate,system)\n",
    "        nstate = update_func_pop(baby,nstate,system)\n",
    "        demo_state.ag_one[t+1] = agedemos(0,14,nstate)\n",
    "        demo_state.ag_two[t+1] = agedemos(15,30,nstate)\n",
    "        demo_state.ag_three[t+1] = agedemos(31,49,nstate)\n",
    "        demo_state.ag_four[t+1] = agedemos(50,70,nstate)\n",
    "        demo_state.ag_five[t+1] = agedemos(71,89,nstate)\n",
    "    return demo_state"
   ]
  },
  {
   "cell_type": "markdown",
   "metadata": {},
   "source": [
    "#### Function used to create TimeSeries with Total Age Group Percentages (demographics)"
   ]
  },
  {
   "cell_type": "code",
   "execution_count": 20,
   "metadata": {},
   "outputs": [],
   "source": [
    "def age_group_per(system, state, update_func_death, update_func_birth, update_func_pop, agedemos, addall):\n",
    "    nstate = State(male = copy.deepcopy(state.male), female = copy.deepcopy(state.female), female_w = copy.deepcopy(state.female_w))\n",
    "    demo_state = State(ag_one = TimeSeries(), ag_two = TimeSeries(), ag_three = TimeSeries(), ag_four = TimeSeries(), ag_five = TimeSeries())\n",
    "    for t in linrange(system.t_0, system.t_end):\n",
    "        nstate = update_func_death(nstate,system)\n",
    "        baby = update_func_birth(nstate,system)\n",
    "        nstate = update_func_pop(baby,nstate,system)\n",
    "        totalpop = addall(nstate)\n",
    "        demo_state.ag_one[t+1] = agedemos(0,14,nstate)*100/totalpop\n",
    "        demo_state.ag_two[t+1] = agedemos(15,30,nstate)*100/totalpop\n",
    "        demo_state.ag_three[t+1] = agedemos(31,50,nstate)*100/totalpop\n",
    "        demo_state.ag_four[t+1] = agedemos(51,70,nstate)*100/totalpop\n",
    "        demo_state.ag_five[t+1] = agedemos(71,89,nstate)*100/totalpop\n",
    "    return demo_state"
   ]
  },
  {
   "cell_type": "markdown",
   "metadata": {},
   "source": [
    "Viewing Total Age Group Demographic (Values) by Year"
   ]
  },
  {
   "cell_type": "code",
   "execution_count": 21,
   "metadata": {},
   "outputs": [
    {
     "data": {
      "text/html": [
       "<div>\n",
       "<style scoped>\n",
       "    .dataframe tbody tr th:only-of-type {\n",
       "        vertical-align: middle;\n",
       "    }\n",
       "\n",
       "    .dataframe tbody tr th {\n",
       "        vertical-align: top;\n",
       "    }\n",
       "\n",
       "    .dataframe thead th {\n",
       "        text-align: right;\n",
       "    }\n",
       "</style>\n",
       "<table border=\"1\" class=\"dataframe\">\n",
       "  <thead>\n",
       "    <tr style=\"text-align: right;\">\n",
       "      <th></th>\n",
       "      <th>values</th>\n",
       "    </tr>\n",
       "  </thead>\n",
       "  <tbody>\n",
       "    <tr>\n",
       "      <th>ag_one</th>\n",
       "      <td>2019    58637396.0\n",
       "2020    56262942.0\n",
       "2021    ...</td>\n",
       "    </tr>\n",
       "    <tr>\n",
       "      <th>ag_two</th>\n",
       "      <td>2019    70720957.0\n",
       "2020    70151983.0\n",
       "2021    ...</td>\n",
       "    </tr>\n",
       "    <tr>\n",
       "      <th>ag_three</th>\n",
       "      <td>2019    79473524.0\n",
       "2020    79807552.0\n",
       "2021    ...</td>\n",
       "    </tr>\n",
       "    <tr>\n",
       "      <th>ag_four</th>\n",
       "      <td>2019    83694002.0\n",
       "2020    83818946.0\n",
       "2021    ...</td>\n",
       "    </tr>\n",
       "    <tr>\n",
       "      <th>ag_five</th>\n",
       "      <td>2019    31059531.0\n",
       "2020    31644211.0\n",
       "2021    ...</td>\n",
       "    </tr>\n",
       "  </tbody>\n",
       "</table>\n",
       "</div>"
      ],
      "text/plain": [
       "ag_one      2019    58637396.0\n",
       "2020    56262942.0\n",
       "2021    ...\n",
       "ag_two      2019    70720957.0\n",
       "2020    70151983.0\n",
       "2021    ...\n",
       "ag_three    2019    79473524.0\n",
       "2020    79807552.0\n",
       "2021    ...\n",
       "ag_four     2019    83694002.0\n",
       "2020    83818946.0\n",
       "2021    ...\n",
       "ag_five     2019    31059531.0\n",
       "2020    31644211.0\n",
       "2021    ...\n",
       "dtype: object"
      ]
     },
     "execution_count": 21,
     "metadata": {},
     "output_type": "execute_result"
    }
   ],
   "source": [
    "demo = age_group(system, population, update_func_death, update_func_birth, update_func_pop, agedemos)"
   ]
  },
  {
   "cell_type": "markdown",
   "metadata": {},
   "source": [
    "Viewing Total Age Group Demographic (Percentages) by Year"
   ]
  },
  {
   "cell_type": "code",
   "execution_count": 22,
   "metadata": {},
   "outputs": [
    {
     "data": {
      "text/html": [
       "<div>\n",
       "<style scoped>\n",
       "    .dataframe tbody tr th:only-of-type {\n",
       "        vertical-align: middle;\n",
       "    }\n",
       "\n",
       "    .dataframe tbody tr th {\n",
       "        vertical-align: top;\n",
       "    }\n",
       "\n",
       "    .dataframe thead th {\n",
       "        text-align: right;\n",
       "    }\n",
       "</style>\n",
       "<table border=\"1\" class=\"dataframe\">\n",
       "  <thead>\n",
       "    <tr style=\"text-align: right;\">\n",
       "      <th></th>\n",
       "      <th>values</th>\n",
       "    </tr>\n",
       "  </thead>\n",
       "  <tbody>\n",
       "    <tr>\n",
       "      <th>ag_one</th>\n",
       "      <td>2019    18.121150\n",
       "2020    17.490039\n",
       "2021    16...</td>\n",
       "    </tr>\n",
       "    <tr>\n",
       "      <th>ag_two</th>\n",
       "      <td>2019    21.855422\n",
       "2020    21.807621\n",
       "2021    21...</td>\n",
       "    </tr>\n",
       "    <tr>\n",
       "      <th>ag_three</th>\n",
       "      <td>2019    25.852632\n",
       "2020    26.105134\n",
       "2021    26...</td>\n",
       "    </tr>\n",
       "    <tr>\n",
       "      <th>ag_four</th>\n",
       "      <td>2019    24.572239\n",
       "2020    24.760208\n",
       "2021    24...</td>\n",
       "    </tr>\n",
       "    <tr>\n",
       "      <th>ag_five</th>\n",
       "      <td>2019     9.598557\n",
       "2020     9.836999\n",
       "2021    10...</td>\n",
       "    </tr>\n",
       "  </tbody>\n",
       "</table>\n",
       "</div>"
      ],
      "text/plain": [
       "ag_one      2019    18.121150\n",
       "2020    17.490039\n",
       "2021    16...\n",
       "ag_two      2019    21.855422\n",
       "2020    21.807621\n",
       "2021    21...\n",
       "ag_three    2019    25.852632\n",
       "2020    26.105134\n",
       "2021    26...\n",
       "ag_four     2019    24.572239\n",
       "2020    24.760208\n",
       "2021    24...\n",
       "ag_five     2019     9.598557\n",
       "2020     9.836999\n",
       "2021    10...\n",
       "dtype: object"
      ]
     },
     "execution_count": 22,
     "metadata": {},
     "output_type": "execute_result"
    }
   ],
   "source": [
    "demo_per = age_group_per(system, population, update_func_death, update_func_birth, update_func_pop, agedemos, addall)"
   ]
  },
  {
   "cell_type": "markdown",
   "metadata": {},
   "source": [
    "Viewing Total Population by Year"
   ]
  },
  {
   "cell_type": "code",
   "execution_count": 23,
   "metadata": {},
   "outputs": [
    {
     "data": {
      "text/html": [
       "<div>\n",
       "<style scoped>\n",
       "    .dataframe tbody tr th:only-of-type {\n",
       "        vertical-align: middle;\n",
       "    }\n",
       "\n",
       "    .dataframe tbody tr th {\n",
       "        vertical-align: top;\n",
       "    }\n",
       "\n",
       "    .dataframe thead th {\n",
       "        text-align: right;\n",
       "    }\n",
       "</style>\n",
       "<table border=\"1\" class=\"dataframe\">\n",
       "  <thead>\n",
       "    <tr style=\"text-align: right;\">\n",
       "      <th></th>\n",
       "      <th>values</th>\n",
       "    </tr>\n",
       "  </thead>\n",
       "  <tbody>\n",
       "    <tr>\n",
       "      <th>2019</th>\n",
       "      <td>323585410.0</td>\n",
       "    </tr>\n",
       "    <tr>\n",
       "      <th>2020</th>\n",
       "      <td>321685634.0</td>\n",
       "    </tr>\n",
       "    <tr>\n",
       "      <th>2021</th>\n",
       "      <td>319959654.0</td>\n",
       "    </tr>\n",
       "    <tr>\n",
       "      <th>2022</th>\n",
       "      <td>318366671.0</td>\n",
       "    </tr>\n",
       "    <tr>\n",
       "      <th>2023</th>\n",
       "      <td>316874166.0</td>\n",
       "    </tr>\n",
       "    <tr>\n",
       "      <th>2024</th>\n",
       "      <td>315459106.0</td>\n",
       "    </tr>\n",
       "    <tr>\n",
       "      <th>2025</th>\n",
       "      <td>313994933.0</td>\n",
       "    </tr>\n",
       "    <tr>\n",
       "      <th>2026</th>\n",
       "      <td>312487013.0</td>\n",
       "    </tr>\n",
       "    <tr>\n",
       "      <th>2027</th>\n",
       "      <td>310938794.0</td>\n",
       "    </tr>\n",
       "    <tr>\n",
       "      <th>2028</th>\n",
       "      <td>309353184.0</td>\n",
       "    </tr>\n",
       "    <tr>\n",
       "      <th>2029</th>\n",
       "      <td>307539441.0</td>\n",
       "    </tr>\n",
       "    <tr>\n",
       "      <th>2030</th>\n",
       "      <td>305657560.0</td>\n",
       "    </tr>\n",
       "    <tr>\n",
       "      <th>2031</th>\n",
       "      <td>303717676.0</td>\n",
       "    </tr>\n",
       "    <tr>\n",
       "      <th>2032</th>\n",
       "      <td>301727870.0</td>\n",
       "    </tr>\n",
       "    <tr>\n",
       "      <th>2033</th>\n",
       "      <td>299695062.0</td>\n",
       "    </tr>\n",
       "  </tbody>\n",
       "</table>\n",
       "</div>"
      ],
      "text/plain": [
       "2019    323585410.0\n",
       "2020    321685634.0\n",
       "2021    319959654.0\n",
       "2022    318366671.0\n",
       "2023    316874166.0\n",
       "2024    315459106.0\n",
       "2025    313994933.0\n",
       "2026    312487013.0\n",
       "2027    310938794.0\n",
       "2028    309353184.0\n",
       "2029    307539441.0\n",
       "2030    305657560.0\n",
       "2031    303717676.0\n",
       "2032    301727870.0\n",
       "2033    299695062.0\n",
       "dtype: float64"
      ]
     },
     "execution_count": 23,
     "metadata": {},
     "output_type": "execute_result"
    }
   ],
   "source": [
    "results = run_population(system, population, update_func_death, update_func_birth, update_func_pop, addall)"
   ]
  },
  {
   "cell_type": "markdown",
   "metadata": {},
   "source": [
    "Creating a TimeSeries Adding All Age Group Values to Check Consistency with Total Population"
   ]
  },
  {
   "cell_type": "code",
   "execution_count": 24,
   "metadata": {},
   "outputs": [
    {
     "data": {
      "text/plain": [
       "2019    323585410.0\n",
       "2020    321685634.0\n",
       "2021    319959654.0\n",
       "2022    318366671.0\n",
       "2023    316874166.0\n",
       "2024    315459106.0\n",
       "2025    313994933.0\n",
       "2026    312487013.0\n",
       "2027    310938794.0\n",
       "2028    309353184.0\n",
       "2029    307539441.0\n",
       "2030    305657560.0\n",
       "2031    303717676.0\n",
       "2032    301727870.0\n",
       "2033    299695062.0\n",
       "dtype: float64"
      ]
     },
     "execution_count": 24,
     "metadata": {},
     "output_type": "execute_result"
    }
   ],
   "source": [
    "check = TimeSeries()\n",
    "for i in linrange(system.t_0, system.t_end):\n",
    "    check = demo.ag_one + demo.ag_two + demo.ag_three + demo.ag_four + demo.ag_five\n",
    "check\n"
   ]
  },
  {
   "cell_type": "markdown",
   "metadata": {},
   "source": [
    "#### Plotting Results"
   ]
  },
  {
   "cell_type": "markdown",
   "metadata": {},
   "source": [
    "Plotting Total Population by Year -- Line Graph"
   ]
  },
  {
   "cell_type": "code",
   "execution_count": 25,
   "metadata": {},
   "outputs": [
    {
     "data": {
      "image/png": "[encoded data removed]",
      "text/plain": [
       "<Figure size 432x288 with 1 Axes>"
      ]
     },
     "metadata": {
      "needs_background": "light"
     },
     "output_type": "display_data"
    }
   ],
   "source": [
    "plot(results, ':', label='Total World Population')\n",
    "\n",
    "decorate(xlabel='Year', \n",
    "         ylabel='World population (billion)',\n",
    "         title='Total World Population Over 15 Years')"
   ]
  },
  {
   "cell_type": "markdown",
   "metadata": {},
   "source": [
    "Plotting Age Group Demographics (Value) by Year -- Line Graph"
   ]
  },
  {
   "cell_type": "code",
   "execution_count": 26,
   "metadata": {},
   "outputs": [
    {
     "data": {
      "image/png": "[encoded data removed]",
      "text/plain": [
       "<Figure size 432x288 with 1 Axes>"
      ]
     },
     "metadata": {
      "needs_background": "light"
     },
     "output_type": "display_data"
    }
   ],
   "source": [
    "plot(demo.ag_one, label = '0-14')\n",
    "plot(demo.ag_two, label = '15-30')\n",
    "plot(demo.ag_three, label = '31-50')\n",
    "plot(demo.ag_four, label = '51-70')\n",
    "plot(demo.ag_five, label = '71-89')\n",
    "\n",
    "decorate(xlabel='Year', \n",
    "         ylabel='World population (billion)',\n",
    "         title='Total World Population Over 15 Years')"
   ]
  },
  {
   "cell_type": "markdown",
   "metadata": {},
   "source": [
    "Plotting Age Group Demographics (Value) by Year -- Stacked Bar Graph"
   ]
  },
  {
   "cell_type": "code",
   "execution_count": 27,
   "metadata": {},
   "outputs": [
    {
     "data": {
      "image/png": "[encoded data removed]",
      "text/plain": [
       "<Figure size 1080x576 with 1 Axes>"
      ]
     },
     "metadata": {
      "needs_background": "light"
     },
     "output_type": "display_data"
    }
   ],
   "source": [
    "# Values of each group\n",
    "bars1 = demo.ag_one\n",
    "bars2 = demo.ag_two\n",
    "bars3 = demo.ag_three\n",
    "bars4 = demo.ag_four\n",
    "bars5 = demo.ag_five\n",
    "\n",
    "# The position of the bars on the x-axis-timerange\n",
    "r = linrange(system.t_0+1, system.t_end+1)\n",
    "\n",
    "#setting bar width\n",
    "barWidth = 0.97\n",
    "\n",
    "plt.figure(figsize=(15, 8))\n",
    " \n",
    "# Create brown bars\n",
    "plt.bar(r, bars1, color='#7f6d5f', edgecolor='white', width=barWidth)\n",
    "# Create green bars (middle), on top of the firs ones\n",
    "plt.bar(r, bars2, bottom=bars1, color='#557f2d', edgecolor='white', width=barWidth)\n",
    "# Create green bars (top)\n",
    "plt.bar(r, bars3, bottom=bars1+bars2, color='#2d7f5e', edgecolor='white', width=barWidth)\n",
    "# Create Blue bars\n",
    "plt.bar(r, bars4, bottom=bars1+bars2+bars3, color='#2E9BC8', edgecolor='white', width=barWidth)\n",
    "#Create yellow bars\n",
    "plt.bar(r, bars5, bottom=bars1+bars2+bars3+bars4, color='#AFA928', edgecolor='white', width=barWidth)\n",
    " \n",
    "# Custom axis\n",
    "plt.xticks(r)\n",
    "plt.xlabel(\"Time\")\n",
    "plt.ylabel(\"Population\")\n",
    "plt.title('U.S Population Over 15 years', fontweight = 'bold')\n",
    "group = ['0-14','15-30','31-49','50-70','71-89']\n",
    "plt.legend(group,loc=4)\n",
    " \n",
    "# Show graphic\n",
    "plt.show()\n"
   ]
  },
  {
   "cell_type": "markdown",
   "metadata": {},
   "source": [
    "Plotting Age Group Demographics (Percent) by Year -- Line Graph"
   ]
  },
  {
   "cell_type": "code",
   "execution_count": 28,
   "metadata": {},
   "outputs": [
    {
     "data": {
      "image/png": "[encoded data removed]",
      "text/plain": [
       "<Figure size 432x288 with 1 Axes>"
      ]
     },
     "metadata": {
      "needs_background": "light"
     },
     "output_type": "display_data"
    }
   ],
   "source": [
    "plot(demo_per.ag_one, label = '0-14')\n",
    "plot(demo_per.ag_two, label = '15-30')\n",
    "plot(demo_per.ag_three, label = '31-50')\n",
    "plot(demo_per.ag_four, label = '51-70')\n",
    "plot(demo_per.ag_five, label = '71-89')\n",
    "\n",
    "decorate(xlabel='Year', \n",
    "         ylabel='World population (billion)',\n",
    "         title='Total World Population Over 15 Years')"
   ]
  },
  {
   "cell_type": "markdown",
   "metadata": {},
   "source": [
    "Plotting Age Group Demographics (Value) by Year -- Stacked Bar Graph"
   ]
  },
  {
   "cell_type": "code",
   "execution_count": 29,
   "metadata": {},
   "outputs": [
    {
     "data": {
      "image/png": "[encoded data removed]",
      "text/plain": [
       "<Figure size 1080x576 with 1 Axes>"
      ]
     },
     "metadata": {
      "needs_background": "light"
     },
     "output_type": "display_data"
    }
   ],
   "source": [
    "# Values of each group\n",
    "bars1 = demo_per.ag_one\n",
    "bars2 = demo_per.ag_two\n",
    "bars3 = demo_per.ag_three\n",
    "bars4 = demo_per.ag_four\n",
    "bars5 = demo_per.ag_five\n",
    "\n",
    "# The position of the bars on the x-axis-timerange\n",
    "r = linrange(system.t_0+1, system.t_end+1)\n",
    "\n",
    "#setting bar width\n",
    "barWidth = 0.97\n",
    "\n",
    "plt.figure(figsize=(15, 8))\n",
    " \n",
    "# Create brown bars\n",
    "plt.bar(r, bars1, color='#7f6d5f', edgecolor='white', width=barWidth)\n",
    "# Create green bars (middle), on top of the firs ones\n",
    "plt.bar(r, bars2, bottom=bars1, color='#557f2d', edgecolor='white', width=barWidth)\n",
    "# Create green bars (top)\n",
    "plt.bar(r, bars3, bottom=bars1+bars2, color='#2d7f5e', edgecolor='white', width=barWidth)\n",
    "# Create Blue bars\n",
    "plt.bar(r, bars4, bottom=bars1+bars2+bars3, color='#2E9BC8', edgecolor='white', width=barWidth)\n",
    "#Create yellow bars\n",
    "plt.bar(r, bars5, bottom=bars1+bars2+bars3+bars4, color='#AFA928', edgecolor='white', width=barWidth)\n",
    " \n",
    "# Custom axis\n",
    "plt.xticks(r)\n",
    "plt.xlabel(\"Time\")\n",
    "plt.ylabel(\"Percentage\")\n",
    "plt.title('U.S Age Demographic over 15 years', fontweight = 'bold')\n",
    "\n",
    "group = ['0-14','15-30','31-49','50-70','71-89']\n",
    "plt.legend(group,loc=4)\n",
    " \n",
    "# Show graphic\n",
    "plt.show()"
   ]
  },
  {
   "cell_type": "markdown",
   "metadata": {},
   "source": [
    "The graphs above show the change in age demographics within the US over the course of 15 years if a one-child policy was implemented. \n",
    "\n",
    "Based on this model, total population seems to be dropping at a fairly linear rate. Within the total population, the \n",
    "\n",
    "This model \n",
    "\n"
   ]
  },
  {
   "cell_type": "markdown",
   "metadata": {},
   "source": [
    "Limitations:\n",
    "\n",
    "1. Not accounting for twins\n",
    "2. birth/death rate assuming constant for next 15 years\n",
    "3. Assumption of gender birth ratio\n",
    "4. No immigrants\n",
    "5. Data not the most recent \n"
   ]
  },
  {
   "cell_type": "markdown",
   "metadata": {},
   "source": []
  },
  {
   "cell_type": "markdown",
   "metadata": {},
   "source": []
  },
  {
   "cell_type": "code",
   "execution_count": null,
   "metadata": {},
   "outputs": [],
   "source": []
  }
 ],
 "metadata": {
  "kernelspec": {
   "display_name": "Python 3",
   "language": "python",
   "name": "python3"
  },
  "language_info": {
   "codemirror_mode": {
    "name": "ipython",
    "version": 3
   },
   "file_extension": ".py",
   "mimetype": "text/x-python",
   "name": "python",
   "nbconvert_exporter": "python",
   "pygments_lexer": "ipython3",
   "version": "3.6.6"
  }
 },
 "nbformat": 4,
 "nbformat_minor": 2
}
